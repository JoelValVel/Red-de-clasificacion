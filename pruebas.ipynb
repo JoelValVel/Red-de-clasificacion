{
 "cells": [
  {
   "cell_type": "code",
   "execution_count": 2,
   "outputs": [],
   "source": [
    "import mnist_loader\n",
    "import network\n",
    "import pickle"
   ],
   "metadata": {
    "collapsed": false,
    "pycharm": {
     "name": "#%%\n"
    }
   }
  },
  {
   "cell_type": "markdown",
   "source": [
    "Se cargan los datos de entrenamiento, validación y testeo desde el modulo mnist_loader"
   ],
   "metadata": {
    "collapsed": false,
    "pycharm": {
     "name": "#%% md\n"
    }
   }
  },
  {
   "cell_type": "code",
   "execution_count": 3,
   "outputs": [],
   "source": [
    "training_data, validation_data , test_data = mnist_loader.load_data_wrapper()\n",
    "\n",
    "training_data = list(training_data)\n",
    "test_data = list(test_data)"
   ],
   "metadata": {
    "collapsed": false,
    "pycharm": {
     "name": "#%%\n"
    }
   }
  },
  {
   "cell_type": "code",
   "execution_count": 3,
   "outputs": [
    {
     "name": "stdout",
     "output_type": "stream",
     "text": [
      "Epoch 0 : 8679 / 10000\n",
      "Epoch 1 : 9055 / 10000\n",
      "Epoch 2 : 9144 / 10000\n",
      "Epoch 3 : 9200 / 10000\n",
      "Epoch 4 : 9244 / 10000\n",
      "Epoch 5 : 9278 / 10000\n",
      "Epoch 6 : 9273 / 10000\n",
      "Epoch 7 : 9307 / 10000\n",
      "Epoch 8 : 9316 / 10000\n",
      "Epoch 9 : 9321 / 10000\n",
      "Epoch 10 : 9335 / 10000\n",
      "Epoch 11 : 9329 / 10000\n",
      "Epoch 12 : 9345 / 10000\n",
      "Epoch 13 : 9349 / 10000\n",
      "Epoch 14 : 9388 / 10000\n",
      "Epoch 15 : 9376 / 10000\n",
      "Epoch 16 : 9383 / 10000\n",
      "Epoch 17 : 9368 / 10000\n",
      "Epoch 18 : 9392 / 10000\n",
      "Epoch 19 : 9403 / 10000\n",
      "Epoch 20 : 9403 / 10000\n",
      "Epoch 21 : 9413 / 10000\n",
      "Epoch 22 : 9431 / 10000\n",
      "Epoch 23 : 9405 / 10000\n",
      "Epoch 24 : 9414 / 10000\n",
      "Epoch 25 : 9430 / 10000\n",
      "Epoch 26 : 9421 / 10000\n",
      "Epoch 27 : 9409 / 10000\n",
      "Epoch 28 : 9443 / 10000\n",
      "Epoch 29 : 9433 / 10000\n"
     ]
    }
   ],
   "source": [
    "net=network.Network([784,30,10])\n",
    "net.SGD( training_data, 30, 10, 0.1,0.9, test_data=test_data)"
   ],
   "metadata": {
    "collapsed": false,
    "pycharm": {
     "name": "#%%\n"
    }
   }
  },
  {
   "cell_type": "markdown",
   "source": [
    "Se entrena la red con diferentes parámetros, 100 neuronas en la capa intermedia, $\\eta$=0.01, $\\gamma$=0.9"
   ],
   "metadata": {
    "collapsed": false,
    "pycharm": {
     "name": "#%% md\n"
    }
   }
  },
  {
   "cell_type": "code",
   "execution_count": 14,
   "outputs": [
    {
     "name": "stdout",
     "output_type": "stream",
     "text": [
      "Epoch 0 : 5692 / 10000\n",
      "Epoch 1 : 5803 / 10000\n",
      "Epoch 2 : 5821 / 10000\n",
      "Epoch 3 : 6691 / 10000\n",
      "Epoch 4 : 6744 / 10000\n",
      "Epoch 5 : 6745 / 10000\n",
      "Epoch 6 : 6763 / 10000\n",
      "Epoch 7 : 6765 / 10000\n",
      "Epoch 8 : 6765 / 10000\n",
      "Epoch 9 : 6781 / 10000\n",
      "Epoch 10 : 6791 / 10000\n",
      "Epoch 11 : 6812 / 10000\n",
      "Epoch 12 : 6780 / 10000\n",
      "Epoch 13 : 6814 / 10000\n",
      "Epoch 14 : 6833 / 10000\n",
      "Epoch 15 : 6852 / 10000\n",
      "Epoch 16 : 6861 / 10000\n",
      "Epoch 17 : 6890 / 10000\n",
      "Epoch 18 : 6881 / 10000\n",
      "Epoch 19 : 6923 / 10000\n",
      "Epoch 20 : 6949 / 10000\n",
      "Epoch 21 : 7673 / 10000\n",
      "Epoch 22 : 7735 / 10000\n",
      "Epoch 23 : 7741 / 10000\n",
      "Epoch 24 : 7734 / 10000\n",
      "Epoch 25 : 7733 / 10000\n",
      "Epoch 26 : 7754 / 10000\n",
      "Epoch 27 : 7759 / 10000\n",
      "Epoch 28 : 7755 / 10000\n",
      "Epoch 29 : 7759 / 10000\n",
      "Epoch 30 : 7762 / 10000\n",
      "Epoch 31 : 7762 / 10000\n",
      "Epoch 32 : 7764 / 10000\n",
      "Epoch 33 : 7766 / 10000\n",
      "Epoch 34 : 7772 / 10000\n",
      "Epoch 35 : 7754 / 10000\n",
      "Epoch 36 : 7764 / 10000\n",
      "Epoch 37 : 7766 / 10000\n",
      "Epoch 38 : 7772 / 10000\n",
      "Epoch 39 : 7763 / 10000\n",
      "Epoch 40 : 7769 / 10000\n",
      "Epoch 41 : 7764 / 10000\n",
      "Epoch 42 : 7765 / 10000\n",
      "Epoch 43 : 7768 / 10000\n",
      "Epoch 44 : 7772 / 10000\n",
      "Epoch 45 : 7764 / 10000\n",
      "Epoch 46 : 7761 / 10000\n",
      "Epoch 47 : 7762 / 10000\n",
      "Epoch 48 : 7764 / 10000\n",
      "Epoch 49 : 7768 / 10000\n"
     ]
    }
   ],
   "source": [
    "net=network.Network([784,100,10])\n",
    "net.SGD( training_data, 50, 10, 0.2, 0.9, test_data=test_data)"
   ],
   "metadata": {
    "collapsed": false,
    "pycharm": {
     "name": "#%%\n"
    }
   }
  },
  {
   "cell_type": "code",
   "execution_count": null,
   "outputs": [],
   "source": [],
   "metadata": {
    "collapsed": false,
    "pycharm": {
     "name": "#%%\n"
    }
   }
  }
 ],
 "metadata": {
  "kernelspec": {
   "display_name": "Python 3",
   "language": "python",
   "name": "python3"
  },
  "language_info": {
   "codemirror_mode": {
    "name": "ipython",
    "version": 2
   },
   "file_extension": ".py",
   "mimetype": "text/x-python",
   "name": "python",
   "nbconvert_exporter": "python",
   "pygments_lexer": "ipython2",
   "version": "2.7.6"
  }
 },
 "nbformat": 4,
 "nbformat_minor": 0
}