{
 "cells": [
  {
   "cell_type": "code",
   "execution_count": 1,
   "outputs": [],
   "source": [
    "import mnist_loader\n",
    "import network"
   ],
   "metadata": {
    "collapsed": false,
    "pycharm": {
     "name": "#%%\n"
    }
   }
  },
  {
   "cell_type": "markdown",
   "source": [
    "Se cargan los datos de entrenamiento, validación y testeo desde el modulo mnist_loader"
   ],
   "metadata": {
    "collapsed": false,
    "pycharm": {
     "name": "#%% md\n"
    }
   }
  },
  {
   "cell_type": "code",
   "execution_count": 2,
   "outputs": [],
   "source": [
    "training_data, validation_data , test_data = mnist_loader.load_data_wrapper()\n",
    "\n",
    "training_data = list(training_data)\n",
    "test_data = list(test_data)"
   ],
   "metadata": {
    "collapsed": false,
    "pycharm": {
     "name": "#%%\n"
    }
   }
  },
  {
   "cell_type": "code",
   "execution_count": 3,
   "outputs": [
    {
     "name": "stdout",
     "output_type": "stream",
     "text": [
      "Epoch 0 : 8752 / 10000\n",
      "Epoch 1 : 9002 / 10000\n",
      "Epoch 2 : 9099 / 10000\n",
      "Epoch 3 : 9160 / 10000\n",
      "Epoch 4 : 9200 / 10000\n",
      "Epoch 5 : 9238 / 10000\n",
      "Epoch 6 : 9267 / 10000\n",
      "Epoch 7 : 9272 / 10000\n",
      "Epoch 8 : 9295 / 10000\n",
      "Epoch 9 : 9311 / 10000\n",
      "Epoch 10 : 9337 / 10000\n",
      "Epoch 11 : 9314 / 10000\n",
      "Epoch 12 : 9344 / 10000\n",
      "Epoch 13 : 9360 / 10000\n",
      "Epoch 14 : 9349 / 10000\n",
      "Epoch 15 : 9373 / 10000\n",
      "Epoch 16 : 9392 / 10000\n",
      "Epoch 17 : 9383 / 10000\n",
      "Epoch 18 : 9404 / 10000\n",
      "Epoch 19 : 9395 / 10000\n",
      "Epoch 20 : 9401 / 10000\n",
      "Epoch 21 : 9385 / 10000\n",
      "Epoch 22 : 9413 / 10000\n",
      "Epoch 23 : 9403 / 10000\n",
      "Epoch 24 : 9400 / 10000\n",
      "Epoch 25 : 9426 / 10000\n",
      "Epoch 26 : 9396 / 10000\n",
      "Epoch 27 : 9397 / 10000\n",
      "Epoch 28 : 9418 / 10000\n",
      "Epoch 29 : 9413 / 10000\n"
     ]
    }
   ],
   "source": [
    "net=network.Network([784,30,10])\n",
    "net.SGD(training_data, 30, 10, 0.1, 0.9, 1, test_data=test_data)"
   ],
   "metadata": {
    "collapsed": false,
    "pycharm": {
     "name": "#%%\n"
    }
   }
  },
  {
   "cell_type": "markdown",
   "source": [
    "Se entrena la red con diferentes parámetros"
   ],
   "metadata": {
    "collapsed": false,
    "pycharm": {
     "name": "#%% md\n"
    }
   }
  },
  {
   "cell_type": "code",
   "execution_count": 4,
   "outputs": [
    {
     "name": "stdout",
     "output_type": "stream",
     "text": [
      "Epoch 0 : 5446 / 10000\n",
      "Epoch 1 : 5567 / 10000\n",
      "Epoch 2 : 5648 / 10000\n",
      "Epoch 3 : 5699 / 10000\n",
      "Epoch 4 : 7308 / 10000\n",
      "Epoch 5 : 7394 / 10000\n",
      "Epoch 6 : 7410 / 10000\n",
      "Epoch 7 : 7449 / 10000\n",
      "Epoch 8 : 7465 / 10000\n",
      "Epoch 9 : 7496 / 10000\n",
      "Epoch 10 : 7501 / 10000\n",
      "Epoch 11 : 7497 / 10000\n",
      "Epoch 12 : 7521 / 10000\n",
      "Epoch 13 : 7524 / 10000\n",
      "Epoch 14 : 7526 / 10000\n",
      "Epoch 15 : 7531 / 10000\n",
      "Epoch 16 : 7535 / 10000\n",
      "Epoch 17 : 7529 / 10000\n",
      "Epoch 18 : 7541 / 10000\n",
      "Epoch 19 : 7550 / 10000\n",
      "Epoch 20 : 7546 / 10000\n",
      "Epoch 21 : 7551 / 10000\n",
      "Epoch 22 : 7553 / 10000\n",
      "Epoch 23 : 7567 / 10000\n",
      "Epoch 24 : 7542 / 10000\n",
      "Epoch 25 : 7554 / 10000\n",
      "Epoch 26 : 7560 / 10000\n",
      "Epoch 27 : 7559 / 10000\n",
      "Epoch 28 : 7564 / 10000\n",
      "Epoch 29 : 7560 / 10000\n"
     ]
    }
   ],
   "source": [
    "net=network.Network([784,100,10])\n",
    "net.SGD( training_data, 30, 10, 0.1, 0.9, 1, test_data=test_data)"
   ],
   "metadata": {
    "collapsed": false,
    "pycharm": {
     "name": "#%%\n"
    }
   }
  }
 ],
 "metadata": {
  "kernelspec": {
   "display_name": "Python 3",
   "language": "python",
   "name": "python3"
  },
  "language_info": {
   "codemirror_mode": {
    "name": "ipython",
    "version": 2
   },
   "file_extension": ".py",
   "mimetype": "text/x-python",
   "name": "python",
   "nbconvert_exporter": "python",
   "pygments_lexer": "ipython2",
   "version": "2.7.6"
  }
 },
 "nbformat": 4,
 "nbformat_minor": 0
}