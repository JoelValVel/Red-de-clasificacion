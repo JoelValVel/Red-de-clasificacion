{
 "cells": [
  {
   "cell_type": "code",
   "execution_count": 1,
   "metadata": {
    "collapsed": false,
    "pycharm": {
     "name": "#%%\n"
    }
   },
   "outputs": [],
   "source": [
    "import mnist_loader\n",
    "import network"
   ]
  },
  {
   "cell_type": "markdown",
   "metadata": {
    "collapsed": false,
    "pycharm": {
     "name": "#%% md\n"
    }
   },
   "source": [
    "Se cargan los datos de entrenamiento, validación y testeo desde el modulo mnist_loader"
   ]
  },
  {
   "cell_type": "code",
   "execution_count": 2,
   "metadata": {
    "collapsed": false,
    "pycharm": {
     "name": "#%%\n"
    }
   },
   "outputs": [],
   "source": [
    "training_data, validation_data , test_data = mnist_loader.load_data_wrapper()\n",
    "\n",
    "training_data = list(training_data)\n",
    "test_data = list(test_data)"
   ]
  },
  {
   "cell_type": "code",
   "execution_count": 3,
   "metadata": {
    "collapsed": false,
    "pycharm": {
     "name": "#%%\n"
    }
   },
   "outputs": [
    {
     "name": "stdout",
     "output_type": "stream",
     "text": [
      "Epoch 0 : 8162 / 10000\n",
      "Epoch 1 : 9172 / 10000\n",
      "Epoch 2 : 9291 / 10000\n",
      "Epoch 3 : 9323 / 10000\n",
      "Epoch 4 : 9325 / 10000\n",
      "Epoch 5 : 9389 / 10000\n",
      "Epoch 6 : 9402 / 10000\n",
      "Epoch 7 : 9421 / 10000\n",
      "Epoch 8 : 9441 / 10000\n",
      "Epoch 9 : 9466 / 10000\n",
      "Epoch 10 : 9457 / 10000\n",
      "Epoch 11 : 9472 / 10000\n",
      "Epoch 12 : 9472 / 10000\n",
      "Epoch 13 : 9465 / 10000\n",
      "Epoch 14 : 9482 / 10000\n",
      "Epoch 15 : 9485 / 10000\n",
      "Epoch 16 : 9499 / 10000\n",
      "Epoch 17 : 9480 / 10000\n",
      "Epoch 18 : 9458 / 10000\n",
      "Epoch 19 : 9487 / 10000\n",
      "Epoch 20 : 9469 / 10000\n",
      "Epoch 21 : 9513 / 10000\n",
      "Epoch 22 : 9497 / 10000\n",
      "Epoch 23 : 9497 / 10000\n",
      "Epoch 24 : 9521 / 10000\n",
      "Epoch 25 : 9512 / 10000\n",
      "Epoch 26 : 9515 / 10000\n",
      "Epoch 27 : 9514 / 10000\n",
      "Epoch 28 : 9505 / 10000\n",
      "Epoch 29 : 9524 / 10000\n"
     ]
    }
   ],
   "source": [
    "net=network.Network([784,30,10])\n",
    "net.SGD( training_data, 30, 10, 0.1,0.9, test_data=test_data)"
   ]
  },
  {
   "cell_type": "markdown",
   "metadata": {
    "collapsed": false,
    "pycharm": {
     "name": "#%% md\n"
    }
   },
   "source": [
    "Se entrena la red con diferentes parámetros, 100 neuronas en la capa intermedia, $\\eta$=0.01, $\\gamma$=0.9"
   ]
  },
  {
   "cell_type": "code",
   "execution_count": 6,
   "metadata": {
    "collapsed": false,
    "pycharm": {
     "name": "#%%\n"
    }
   },
   "outputs": [
    {
     "name": "stdout",
     "output_type": "stream",
     "text": [
      "Epoch 0 : 5470 / 10000\n",
      "Epoch 1 : 6192 / 10000\n",
      "Epoch 2 : 7255 / 10000\n",
      "Epoch 3 : 8520 / 10000\n",
      "Epoch 4 : 8868 / 10000\n",
      "Epoch 5 : 8985 / 10000\n",
      "Epoch 6 : 9059 / 10000\n",
      "Epoch 7 : 9116 / 10000\n",
      "Epoch 8 : 9161 / 10000\n",
      "Epoch 9 : 9193 / 10000\n",
      "Epoch 10 : 9221 / 10000\n",
      "Epoch 11 : 9233 / 10000\n",
      "Epoch 12 : 9268 / 10000\n",
      "Epoch 13 : 9286 / 10000\n",
      "Epoch 14 : 9307 / 10000\n",
      "Epoch 15 : 9327 / 10000\n",
      "Epoch 16 : 9347 / 10000\n",
      "Epoch 17 : 9353 / 10000\n",
      "Epoch 18 : 9368 / 10000\n",
      "Epoch 19 : 9377 / 10000\n",
      "Epoch 20 : 9381 / 10000\n",
      "Epoch 21 : 9388 / 10000\n",
      "Epoch 22 : 9395 / 10000\n",
      "Epoch 23 : 9411 / 10000\n",
      "Epoch 24 : 9406 / 10000\n",
      "Epoch 25 : 9413 / 10000\n",
      "Epoch 26 : 9413 / 10000\n",
      "Epoch 27 : 9427 / 10000\n",
      "Epoch 28 : 9431 / 10000\n",
      "Epoch 29 : 9446 / 10000\n",
      "Epoch 30 : 9437 / 10000\n",
      "Epoch 31 : 9451 / 10000\n",
      "Epoch 32 : 9444 / 10000\n",
      "Epoch 33 : 9449 / 10000\n",
      "Epoch 34 : 9448 / 10000\n",
      "Epoch 35 : 9447 / 10000\n",
      "Epoch 36 : 9456 / 10000\n",
      "Epoch 37 : 9469 / 10000\n",
      "Epoch 38 : 9454 / 10000\n",
      "Epoch 39 : 9469 / 10000\n",
      "Epoch 40 : 9472 / 10000\n",
      "Epoch 41 : 9473 / 10000\n",
      "Epoch 42 : 9475 / 10000\n",
      "Epoch 43 : 9480 / 10000\n",
      "Epoch 44 : 9483 / 10000\n",
      "Epoch 45 : 9476 / 10000\n",
      "Epoch 46 : 9475 / 10000\n",
      "Epoch 47 : 9486 / 10000\n",
      "Epoch 48 : 9485 / 10000\n",
      "Epoch 49 : 9494 / 10000\n"
     ]
    }
   ],
   "source": [
    "net=network.Network([784,100,10])\n",
    "net.SGD( training_data, 50, 10, 0.01, 0.9, test_data=test_data)"
   ]
  }
 ],
 "metadata": {
  "kernelspec": {
   "display_name": "Python 3.8.12 ('Machine Learning')",
   "language": "python",
   "name": "python3"
  },
  "language_info": {
   "codemirror_mode": {
    "name": "ipython",
    "version": 3
   },
   "file_extension": ".py",
   "mimetype": "text/x-python",
   "name": "python",
   "nbconvert_exporter": "python",
   "pygments_lexer": "ipython3",
   "version": "3.8.12"
  },
  "vscode": {
   "interpreter": {
    "hash": "908c6857a9a2cb87d7ce0d0c1f32efc6c9589d4ff0e8e7e2d642cd1c049890c8"
   }
  }
 },
 "nbformat": 4,
 "nbformat_minor": 0
}
