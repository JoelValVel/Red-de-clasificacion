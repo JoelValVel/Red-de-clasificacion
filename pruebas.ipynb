{
 "cells": [
  {
   "cell_type": "code",
   "execution_count": 1,
   "metadata": {
    "collapsed": false,
    "pycharm": {
     "name": "#%%\n"
    }
   },
   "outputs": [],
   "source": [
    "import mnist_loader\n",
    "import network"
   ]
  },
  {
   "cell_type": "markdown",
   "metadata": {
    "collapsed": false,
    "pycharm": {
     "name": "#%% md\n"
    }
   },
   "source": [
    "Se cargan los datos de entrenamiento, validación y testeo desde el modulo mnist_loader"
   ]
  },
  {
   "cell_type": "code",
   "execution_count": 2,
   "metadata": {
    "collapsed": false,
    "pycharm": {
     "name": "#%%\n"
    }
   },
   "outputs": [],
   "source": [
    "training_data, validation_data , test_data = mnist_loader.load_data_wrapper()\n",
    "\n",
    "training_data = list(training_data)\n",
    "test_data = list(test_data)"
   ]
  },
  {
   "cell_type": "code",
   "execution_count": 3,
   "metadata": {
    "collapsed": false,
    "pycharm": {
     "name": "#%%\n"
    }
   },
   "outputs": [
    {
     "name": "stdout",
     "output_type": "stream",
     "text": [
      "Epoch 0 : 8672 / 10000\n",
      "Epoch 1 : 8980 / 10000\n",
      "Epoch 2 : 9088 / 10000\n",
      "Epoch 3 : 9147 / 10000\n",
      "Epoch 4 : 9198 / 10000\n",
      "Epoch 5 : 9213 / 10000\n",
      "Epoch 6 : 9266 / 10000\n",
      "Epoch 7 : 9259 / 10000\n",
      "Epoch 8 : 9297 / 10000\n",
      "Epoch 9 : 9327 / 10000\n",
      "Epoch 10 : 9317 / 10000\n",
      "Epoch 11 : 9335 / 10000\n",
      "Epoch 12 : 9341 / 10000\n",
      "Epoch 13 : 9353 / 10000\n",
      "Epoch 14 : 9378 / 10000\n",
      "Epoch 15 : 9360 / 10000\n",
      "Epoch 16 : 9364 / 10000\n",
      "Epoch 17 : 9395 / 10000\n",
      "Epoch 18 : 9384 / 10000\n",
      "Epoch 19 : 9396 / 10000\n",
      "Epoch 20 : 9420 / 10000\n",
      "Epoch 21 : 9426 / 10000\n",
      "Epoch 22 : 9432 / 10000\n",
      "Epoch 23 : 9407 / 10000\n",
      "Epoch 24 : 9429 / 10000\n",
      "Epoch 25 : 9422 / 10000\n",
      "Epoch 26 : 9435 / 10000\n",
      "Epoch 27 : 9454 / 10000\n",
      "Epoch 28 : 9433 / 10000\n",
      "Epoch 29 : 9444 / 10000\n",
      "Epoch 30 : 9434 / 10000\n",
      "Epoch 31 : 9455 / 10000\n",
      "Epoch 32 : 9442 / 10000\n",
      "Epoch 33 : 9454 / 10000\n",
      "Epoch 34 : 9454 / 10000\n",
      "Epoch 35 : 9470 / 10000\n",
      "Epoch 36 : 9466 / 10000\n",
      "Epoch 37 : 9451 / 10000\n",
      "Epoch 38 : 9462 / 10000\n",
      "Epoch 39 : 9476 / 10000\n",
      "Epoch 40 : 9461 / 10000\n",
      "Epoch 41 : 9466 / 10000\n",
      "Epoch 42 : 9464 / 10000\n",
      "Epoch 43 : 9473 / 10000\n",
      "Epoch 44 : 9467 / 10000\n"
     ]
    }
   ],
   "source": [
    "net=network.Network([784,30,10])\n",
    "net.SGD(training_data, 45, 10, 0.01, 0.9, 1, test_data=test_data)"
   ]
  },
  {
   "cell_type": "markdown",
   "metadata": {
    "collapsed": false,
    "pycharm": {
     "name": "#%% md\n"
    }
   },
   "source": [
    "Se entrena la red con diferentes parámetros"
   ]
  },
  {
   "cell_type": "code",
   "execution_count": 3,
   "metadata": {
    "collapsed": false,
    "pycharm": {
     "name": "#%%\n"
    }
   },
   "outputs": [
    {
     "name": "stdout",
     "output_type": "stream",
     "text": [
      "Epoch 0 : 7453 / 10000\n",
      "Epoch 1 : 7526 / 10000\n",
      "Epoch 2 : 7629 / 10000\n",
      "Epoch 3 : 8485 / 10000\n",
      "Epoch 4 : 9397 / 10000\n",
      "Epoch 5 : 9488 / 10000\n",
      "Epoch 6 : 9529 / 10000\n",
      "Epoch 7 : 9561 / 10000\n",
      "Epoch 8 : 9526 / 10000\n",
      "Epoch 9 : 9553 / 10000\n",
      "Epoch 10 : 9539 / 10000\n",
      "Epoch 11 : 9587 / 10000\n",
      "Epoch 12 : 9591 / 10000\n",
      "Epoch 13 : 9603 / 10000\n",
      "Epoch 14 : 9606 / 10000\n",
      "Epoch 15 : 9599 / 10000\n",
      "Epoch 16 : 9600 / 10000\n",
      "Epoch 17 : 9591 / 10000\n",
      "Epoch 18 : 9602 / 10000\n",
      "Epoch 19 : 9604 / 10000\n",
      "Epoch 20 : 9608 / 10000\n",
      "Epoch 21 : 9608 / 10000\n",
      "Epoch 22 : 9605 / 10000\n",
      "Epoch 23 : 9606 / 10000\n",
      "Epoch 24 : 9625 / 10000\n",
      "Epoch 25 : 9611 / 10000\n",
      "Epoch 26 : 9610 / 10000\n",
      "Epoch 27 : 9619 / 10000\n",
      "Epoch 28 : 9621 / 10000\n",
      "Epoch 29 : 9622 / 10000\n"
     ]
    }
   ],
   "source": [
    "net=network.Network([784,100,10])\n",
    "net.SGD( training_data, 30, 10, 0.1, 0.9, 1, test_data=test_data)"
   ]
  }
 ],
 "metadata": {
  "kernelspec": {
   "display_name": "Python 3.8.12 ('Machine Learning')",
   "language": "python",
   "name": "python3"
  },
  "language_info": {
   "codemirror_mode": {
    "name": "ipython",
    "version": 3
   },
   "file_extension": ".py",
   "mimetype": "text/x-python",
   "name": "python",
   "nbconvert_exporter": "python",
   "pygments_lexer": "ipython3",
   "version": "3.8.12"
  },
  "vscode": {
   "interpreter": {
    "hash": "908c6857a9a2cb87d7ce0d0c1f32efc6c9589d4ff0e8e7e2d642cd1c049890c8"
   }
  }
 },
 "nbformat": 4,
 "nbformat_minor": 0
}
