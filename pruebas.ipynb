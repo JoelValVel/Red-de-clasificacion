{
 "cells": [
  {
   "cell_type": "code",
   "execution_count": 1,
   "outputs": [],
   "source": [
    "import mnist_loader\n",
    "import network"
   ],
   "metadata": {
    "collapsed": false,
    "pycharm": {
     "name": "#%%\n"
    }
   }
  },
  {
   "cell_type": "markdown",
   "source": [
    "Se cargan los datos de entrenamiento, validación y testeo desde el modulo mnist_loader"
   ],
   "metadata": {
    "collapsed": false,
    "pycharm": {
     "name": "#%% md\n"
    }
   }
  },
  {
   "cell_type": "code",
   "execution_count": 2,
   "outputs": [],
   "source": [
    "training_data, validation_data , test_data = mnist_loader.load_data_wrapper()\n",
    "\n",
    "training_data = list(training_data)\n",
    "test_data = list(test_data)"
   ],
   "metadata": {
    "collapsed": false,
    "pycharm": {
     "name": "#%%\n"
    }
   }
  },
  {
   "cell_type": "code",
   "execution_count": 3,
   "outputs": [
    {
     "name": "stdout",
     "output_type": "stream",
     "text": [
      "Epoch 0 : 8752 / 10000\n",
      "Epoch 1 : 9002 / 10000\n",
      "Epoch 2 : 9099 / 10000\n",
      "Epoch 3 : 9160 / 10000\n",
      "Epoch 4 : 9200 / 10000\n",
      "Epoch 5 : 9238 / 10000\n",
      "Epoch 6 : 9267 / 10000\n",
      "Epoch 7 : 9272 / 10000\n",
      "Epoch 8 : 9295 / 10000\n",
      "Epoch 9 : 9311 / 10000\n",
      "Epoch 10 : 9337 / 10000\n",
      "Epoch 11 : 9314 / 10000\n",
      "Epoch 12 : 9344 / 10000\n",
      "Epoch 13 : 9360 / 10000\n",
      "Epoch 14 : 9349 / 10000\n",
      "Epoch 15 : 9373 / 10000\n",
      "Epoch 16 : 9392 / 10000\n",
      "Epoch 17 : 9383 / 10000\n",
      "Epoch 18 : 9404 / 10000\n",
      "Epoch 19 : 9395 / 10000\n",
      "Epoch 20 : 9401 / 10000\n",
      "Epoch 21 : 9385 / 10000\n",
      "Epoch 22 : 9413 / 10000\n",
      "Epoch 23 : 9403 / 10000\n",
      "Epoch 24 : 9400 / 10000\n",
      "Epoch 25 : 9426 / 10000\n",
      "Epoch 26 : 9396 / 10000\n",
      "Epoch 27 : 9397 / 10000\n",
      "Epoch 28 : 9418 / 10000\n",
      "Epoch 29 : 9413 / 10000\n"
     ]
    }
   ],
   "source": [
    "net=network.Network([784,30,10])\n",
    "net.SGD(training_data, 30, 10, 0.1, 0.9, 1, test_data=test_data)"
   ],
   "metadata": {
    "collapsed": false,
    "pycharm": {
     "name": "#%%\n"
    }
   }
  },
  {
   "cell_type": "markdown",
   "source": [
    "Se entrena la red con diferentes parámetros"
   ],
   "metadata": {
    "collapsed": false,
    "pycharm": {
     "name": "#%% md\n"
    }
   }
  },
  {
   "cell_type": "code",
   "execution_count": 4,
   "outputs": [
    {
     "name": "stdout",
     "output_type": "stream",
     "text": [
      "Epoch 0 : 5446 / 10000\n",
      "Epoch 1 : 5567 / 10000\n",
      "Epoch 2 : 5648 / 10000\n",
      "Epoch 3 : 5699 / 10000\n",
      "Epoch 4 : 7308 / 10000\n",
      "Epoch 5 : 7394 / 10000\n",
      "Epoch 6 : 7410 / 10000\n",
      "Epoch 7 : 7449 / 10000\n",
      "Epoch 8 : 7465 / 10000\n",
      "Epoch 9 : 7496 / 10000\n",
      "Epoch 10 : 7501 / 10000\n",
      "Epoch 11 : 7497 / 10000\n",
      "Epoch 12 : 7521 / 10000\n",
      "Epoch 13 : 7524 / 10000\n",
      "Epoch 14 : 7526 / 10000\n",
      "Epoch 15 : 7531 / 10000\n",
      "Epoch 16 : 7535 / 10000\n",
      "Epoch 17 : 7529 / 10000\n",
      "Epoch 18 : 7541 / 10000\n",
      "Epoch 19 : 7550 / 10000\n",
      "Epoch 20 : 7546 / 10000\n",
      "Epoch 21 : 7551 / 10000\n",
      "Epoch 22 : 7553 / 10000\n",
      "Epoch 23 : 7567 / 10000\n",
      "Epoch 24 : 7542 / 10000\n",
      "Epoch 25 : 7554 / 10000\n",
      "Epoch 26 : 7560 / 10000\n",
      "Epoch 27 : 7559 / 10000\n",
      "Epoch 28 : 7564 / 10000\n",
      "Epoch 29 : 7560 / 10000\n"
     ]
    }
   ],
   "source": [
    "net=network.Network([784,100,10])\n",
    "net.SGD( training_data, 30, 10, 0.1, 0.9, 1, test_data=test_data)"
   ],
   "metadata": {
    "collapsed": false,
    "pycharm": {
     "name": "#%%\n"
    }
   }
  },
  {
   "cell_type": "code",
   "execution_count": null,
   "outputs": [],
   "source": [
    "#leer el archivo\n",
    "archivo_lectura = open(\"red_prueba.pkl\",'rb')\n",
    "net = pickle.load(archivo_lectura)\n",
    "archivo_lectura.close()"
   ],
   "metadata": {
    "collapsed": false,
    "pycharm": {
     "name": "#%%\n"
    }
   }
  },
  {
   "cell_type": "markdown",
   "source": [
    "Se entrena la red con diferentes parámetros"
   ],
   "metadata": {
    "collapsed": false,
    "pycharm": {
     "name": "#%% md\n"
    }
   }
  },
  {
   "cell_type": "code",
   "execution_count": 6,
   "outputs": [
    {
     "name": "stdout",
     "output_type": "stream",
     "text": [
      "Epoch 0 : 8261 / 10000\n",
      "Epoch 1 : 8396 / 10000\n",
      "Epoch 2 : 8484 / 10000\n",
      "Epoch 3 : 8518 / 10000\n",
      "Epoch 4 : 8572 / 10000\n",
      "Epoch 5 : 8587 / 10000\n",
      "Epoch 6 : 8810 / 10000\n",
      "Epoch 7 : 9568 / 10000\n",
      "Epoch 8 : 9584 / 10000\n",
      "Epoch 9 : 9578 / 10000\n",
      "Epoch 10 : 9581 / 10000\n",
      "Epoch 11 : 9606 / 10000\n",
      "Epoch 12 : 9614 / 10000\n",
      "Epoch 13 : 9630 / 10000\n",
      "Epoch 14 : 9618 / 10000\n",
      "Epoch 15 : 9618 / 10000\n",
      "Epoch 16 : 9633 / 10000\n",
      "Epoch 17 : 9630 / 10000\n",
      "Epoch 18 : 9637 / 10000\n",
      "Epoch 19 : 9637 / 10000\n",
      "Epoch 20 : 9636 / 10000\n",
      "Epoch 21 : 9662 / 10000\n",
      "Epoch 22 : 9654 / 10000\n",
      "Epoch 23 : 9656 / 10000\n",
      "Epoch 24 : 9652 / 10000\n",
      "Epoch 25 : 9665 / 10000\n",
      "Epoch 26 : 9653 / 10000\n",
      "Epoch 27 : 9658 / 10000\n",
      "Epoch 28 : 9660 / 10000\n",
      "Epoch 29 : 9658 / 10000\n"
     ]
    }
   ],
   "source": [
    "net=network.Network([784,100,10])\n",
    "net.SGD( training_data, 30, 10, 3.0, test_data=test_data)"
   ],
   "metadata": {
    "collapsed": false,
    "pycharm": {
     "name": "#%%\n"
    }
   }
  },
  {
   "cell_type": "code",
   "execution_count": 5,
   "outputs": [
    {
     "name": "stdout",
     "output_type": "stream",
     "text": [
      "Epoch 0 : 1927 / 10000\n",
      "Epoch 1 : 999 / 10000\n",
      "Epoch 2 : 999 / 10000\n",
      "Epoch 3 : 999 / 10000\n",
      "Epoch 4 : 999 / 10000\n",
      "Epoch 5 : 999 / 10000\n",
      "Epoch 6 : 999 / 10000\n",
      "Epoch 7 : 999 / 10000\n",
      "Epoch 8 : 999 / 10000\n",
      "Epoch 9 : 999 / 10000\n",
      "Epoch 10 : 999 / 10000\n",
      "Epoch 11 : 999 / 10000\n",
      "Epoch 12 : 999 / 10000\n",
      "Epoch 13 : 999 / 10000\n",
      "Epoch 14 : 999 / 10000\n",
      "Epoch 15 : 998 / 10000\n",
      "Epoch 16 : 999 / 10000\n",
      "Epoch 17 : 999 / 10000\n",
      "Epoch 18 : 999 / 10000\n",
      "Epoch 19 : 999 / 10000\n",
      "Epoch 20 : 999 / 10000\n",
      "Epoch 21 : 999 / 10000\n",
      "Epoch 22 : 999 / 10000\n",
      "Epoch 23 : 999 / 10000\n",
      "Epoch 24 : 999 / 10000\n",
      "Epoch 25 : 999 / 10000\n",
      "Epoch 26 : 999 / 10000\n",
      "Epoch 27 : 999 / 10000\n",
      "Epoch 28 : 999 / 10000\n",
      "Epoch 29 : 999 / 10000\n"
     ]
    }
   ],
   "source": [
    "net=network.Network([784,30,10])\n",
    "net.SGD( training_data, 30, 10, 100.0, test_data=test_data)"
   ],
   "metadata": {
    "collapsed": false,
    "pycharm": {
     "name": "#%%\n"
    }
   }
  },
  {
   "cell_type": "code",
   "execution_count": null,
   "outputs": [],
   "source": [],
   "metadata": {
    "collapsed": false,
    "pycharm": {
     "name": "#%%\n"
    }
   }
  }
 ],
 "metadata": {
  "kernelspec": {
   "display_name": "Python 3",
   "language": "python",
   "name": "python3"
  },
  "language_info": {
   "codemirror_mode": {
    "name": "ipython",
    "version": 2
   },
   "file_extension": ".py",
   "mimetype": "text/x-python",
   "name": "python",
   "nbconvert_exporter": "python",
   "pygments_lexer": "ipython2",
   "version": "2.7.6"
  }
 },
 "nbformat": 4,
 "nbformat_minor": 0
}