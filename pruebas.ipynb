{
 "cells": [
  {
   "cell_type": "code",
   "execution_count": 2,
   "outputs": [],
   "source": [
    "import mnist_loader\n",
    "import network\n",
    "import pickle"
   ],
   "metadata": {
    "collapsed": false,
    "pycharm": {
     "name": "#%%\n"
    }
   }
  },
  {
   "cell_type": "markdown",
   "source": [
    "Se cargan los datos de entrenamiento, validación y testeo desde el modulo mnist_loader"
   ],
   "metadata": {
    "collapsed": false,
    "pycharm": {
     "name": "#%% md\n"
    }
   }
  },
  {
   "cell_type": "code",
   "execution_count": 4,
   "outputs": [],
   "source": [
    "training_data, validation_data , test_data = mnist_loader.load_data_wrapper()\n",
    "\n",
    "training_data = list(training_data)\n",
    "test_data = list(test_data)"
   ],
   "metadata": {
    "collapsed": false,
    "pycharm": {
     "name": "#%%\n"
    }
   }
  },
  {
   "cell_type": "code",
   "execution_count": 3,
   "outputs": [
    {
     "name": "stdout",
     "output_type": "stream",
     "text": [
      "Epoch 0 : 8169 / 10000\n",
      "Epoch 1 : 8381 / 10000\n",
      "Epoch 2 : 8456 / 10000\n",
      "Epoch 3 : 9314 / 10000\n",
      "Epoch 4 : 9358 / 10000\n",
      "Epoch 5 : 9356 / 10000\n",
      "Epoch 6 : 9396 / 10000\n",
      "Epoch 7 : 9425 / 10000\n",
      "Epoch 8 : 9422 / 10000\n",
      "Epoch 9 : 9426 / 10000\n",
      "Epoch 10 : 9444 / 10000\n",
      "Epoch 11 : 9414 / 10000\n",
      "Epoch 12 : 9433 / 10000\n",
      "Epoch 13 : 9441 / 10000\n",
      "Epoch 14 : 9477 / 10000\n",
      "Epoch 15 : 9455 / 10000\n",
      "Epoch 16 : 9483 / 10000\n",
      "Epoch 17 : 9455 / 10000\n",
      "Epoch 18 : 9496 / 10000\n",
      "Epoch 19 : 9486 / 10000\n",
      "Epoch 20 : 9459 / 10000\n",
      "Epoch 21 : 9485 / 10000\n",
      "Epoch 22 : 9490 / 10000\n",
      "Epoch 23 : 9509 / 10000\n",
      "Epoch 24 : 9475 / 10000\n",
      "Epoch 25 : 9494 / 10000\n",
      "Epoch 26 : 9496 / 10000\n",
      "Epoch 27 : 9512 / 10000\n",
      "Epoch 28 : 9506 / 10000\n",
      "Epoch 29 : 9480 / 10000\n"
     ]
    }
   ],
   "source": [
    "net=network.Network([784,30,10])\n",
    "net.SGD( training_data, 30, 10, 3.0, test_data=test_data)"
   ],
   "metadata": {
    "collapsed": false,
    "pycharm": {
     "name": "#%%\n"
    }
   }
  },
  {
   "cell_type": "markdown",
   "source": [
    "Se guarda la red neuronal para conservar los pesos y bias"
   ],
   "metadata": {
    "collapsed": false,
    "pycharm": {
     "name": "#%% md\n"
    }
   }
  },
  {
   "cell_type": "code",
   "execution_count": 4,
   "outputs": [],
   "source": [
    "archivo = open(\"red_prueba1.pkl\",'wb')\n",
    "pickle.dump(net,archivo)\n",
    "archivo.close()\n",
    "exit()"
   ],
   "metadata": {
    "collapsed": false,
    "pycharm": {
     "name": "#%%\n"
    }
   }
  },
  {
   "cell_type": "markdown",
   "source": [
    "Se vuelve a leer el archivo para cargar los datos guardados y recuperar la red"
   ],
   "metadata": {
    "collapsed": false,
    "pycharm": {
     "name": "#%% md\n"
    }
   }
  },
  {
   "cell_type": "code",
   "execution_count": null,
   "outputs": [],
   "source": [
    "#leer el archivo\n",
    "archivo_lectura = open(\"red_prueba.pkl\",'rb')\n",
    "net = pickle.load(archivo_lectura)\n",
    "archivo_lectura.close()"
   ],
   "metadata": {
    "collapsed": false,
    "pycharm": {
     "name": "#%%\n"
    }
   }
  },
  {
   "cell_type": "markdown",
   "source": [
    "Se entrena la red con diferentes parámetros"
   ],
   "metadata": {
    "collapsed": false,
    "pycharm": {
     "name": "#%% md\n"
    }
   }
  },
  {
   "cell_type": "code",
   "execution_count": 6,
   "outputs": [
    {
     "name": "stdout",
     "output_type": "stream",
     "text": [
      "Epoch 0 : 8261 / 10000\n",
      "Epoch 1 : 8396 / 10000\n",
      "Epoch 2 : 8484 / 10000\n",
      "Epoch 3 : 8518 / 10000\n",
      "Epoch 4 : 8572 / 10000\n",
      "Epoch 5 : 8587 / 10000\n",
      "Epoch 6 : 8810 / 10000\n",
      "Epoch 7 : 9568 / 10000\n",
      "Epoch 8 : 9584 / 10000\n",
      "Epoch 9 : 9578 / 10000\n",
      "Epoch 10 : 9581 / 10000\n",
      "Epoch 11 : 9606 / 10000\n",
      "Epoch 12 : 9614 / 10000\n",
      "Epoch 13 : 9630 / 10000\n",
      "Epoch 14 : 9618 / 10000\n",
      "Epoch 15 : 9618 / 10000\n",
      "Epoch 16 : 9633 / 10000\n",
      "Epoch 17 : 9630 / 10000\n",
      "Epoch 18 : 9637 / 10000\n",
      "Epoch 19 : 9637 / 10000\n",
      "Epoch 20 : 9636 / 10000\n",
      "Epoch 21 : 9662 / 10000\n",
      "Epoch 22 : 9654 / 10000\n",
      "Epoch 23 : 9656 / 10000\n",
      "Epoch 24 : 9652 / 10000\n",
      "Epoch 25 : 9665 / 10000\n",
      "Epoch 26 : 9653 / 10000\n",
      "Epoch 27 : 9658 / 10000\n",
      "Epoch 28 : 9660 / 10000\n",
      "Epoch 29 : 9658 / 10000\n"
     ]
    }
   ],
   "source": [
    "net=network.Network([784,100,10])\n",
    "net.SGD( training_data, 30, 10, 3.0, test_data=test_data)"
   ],
   "metadata": {
    "collapsed": false,
    "pycharm": {
     "name": "#%%\n"
    }
   }
  },
  {
   "cell_type": "code",
   "execution_count": 5,
   "outputs": [
    {
     "name": "stdout",
     "output_type": "stream",
     "text": [
      "Epoch 0 : 1927 / 10000\n",
      "Epoch 1 : 999 / 10000\n",
      "Epoch 2 : 999 / 10000\n",
      "Epoch 3 : 999 / 10000\n",
      "Epoch 4 : 999 / 10000\n",
      "Epoch 5 : 999 / 10000\n",
      "Epoch 6 : 999 / 10000\n",
      "Epoch 7 : 999 / 10000\n",
      "Epoch 8 : 999 / 10000\n",
      "Epoch 9 : 999 / 10000\n",
      "Epoch 10 : 999 / 10000\n",
      "Epoch 11 : 999 / 10000\n",
      "Epoch 12 : 999 / 10000\n",
      "Epoch 13 : 999 / 10000\n",
      "Epoch 14 : 999 / 10000\n",
      "Epoch 15 : 998 / 10000\n",
      "Epoch 16 : 999 / 10000\n",
      "Epoch 17 : 999 / 10000\n",
      "Epoch 18 : 999 / 10000\n",
      "Epoch 19 : 999 / 10000\n",
      "Epoch 20 : 999 / 10000\n",
      "Epoch 21 : 999 / 10000\n",
      "Epoch 22 : 999 / 10000\n",
      "Epoch 23 : 999 / 10000\n",
      "Epoch 24 : 999 / 10000\n",
      "Epoch 25 : 999 / 10000\n",
      "Epoch 26 : 999 / 10000\n",
      "Epoch 27 : 999 / 10000\n",
      "Epoch 28 : 999 / 10000\n",
      "Epoch 29 : 999 / 10000\n"
     ]
    }
   ],
   "source": [
    "net=network.Network([784,30,10])\n",
    "net.SGD( training_data, 30, 10, 100.0, test_data=test_data)"
   ],
   "metadata": {
    "collapsed": false,
    "pycharm": {
     "name": "#%%\n"
    }
   }
  },
  {
   "cell_type": "code",
   "execution_count": null,
   "outputs": [],
   "source": [],
   "metadata": {
    "collapsed": false,
    "pycharm": {
     "name": "#%%\n"
    }
   }
  }
 ],
 "metadata": {
  "kernelspec": {
   "display_name": "Python 3",
   "language": "python",
   "name": "python3"
  },
  "language_info": {
   "codemirror_mode": {
    "name": "ipython",
    "version": 2
   },
   "file_extension": ".py",
   "mimetype": "text/x-python",
   "name": "python",
   "nbconvert_exporter": "python",
   "pygments_lexer": "ipython2",
   "version": "2.7.6"
  }
 },
 "nbformat": 4,
 "nbformat_minor": 0
}